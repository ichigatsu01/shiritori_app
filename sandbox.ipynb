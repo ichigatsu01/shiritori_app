{
 "cells": [
  {
   "cell_type": "code",
   "execution_count": 1,
   "id": "1be43d96",
   "metadata": {},
   "outputs": [],
   "source": [
    "import unicodedata"
   ]
  },
  {
   "cell_type": "code",
   "execution_count": 12,
   "id": "01b33aa1",
   "metadata": {},
   "outputs": [
    {
     "name": "stdout",
     "output_type": "stream",
     "text": [
      "['しりとり']\n"
     ]
    }
   ],
   "source": [
    "worddict_used = [] # user, cpuが使った単語を格納するためのリスト\n",
    "selected_word_cpu = \"しりとり\" # cpuが前回選んだ単語・・・テスト用\n",
    "worddict_used.append(selected_word_cpu)\n",
    "\n",
    "print(worddict_used)"
   ]
  },
  {
   "cell_type": "code",
   "execution_count": 13,
   "id": "dc57ddf0",
   "metadata": {},
   "outputs": [
    {
     "name": "stdout",
     "output_type": "stream",
     "text": [
      "HIRAGANA LETTER RI\n",
      "HIRAGANA LETTER N\n",
      "本当に「ん」で終わる単語を入れますか？\n",
      "HIRAGANA LETTER RI\n",
      "HIRAGANA LETTER N\n",
      "後悔しませんね？\n",
      "HIRAGANA LETTER RI\n",
      "HIRAGANA LETTER N\n",
      "本当に後悔しませんね？\n",
      "HIRAGANA LETTER RI\n",
      "HIRAGANA LETTER N\n",
      "あなたは自ら敗北を選びました...\n"
     ]
    }
   ],
   "source": [
    "# ユーザの入力チェック\n",
    "n_count = 0\n",
    "while True:\n",
    "    # 未入力チェック\n",
    "    inputed_word_user = input('ひらがなを入力してください')\n",
    "    if inputed_word_user == \"\":\n",
    "        print(\"空白のままでは送信できません\")\n",
    "        continue\n",
    "\n",
    "    # 入力された単語はひらがなか？\n",
    "    all_hiragana = True\n",
    "    for letter in inputed_word_user:\n",
    "        print(unicodedata.name(letter))\n",
    "        if 'HIRAGANA' not in unicodedata.name(letter):\n",
    "            all_hiragana = False\n",
    "\n",
    "    if not all_hiragana:\n",
    "        print('注意：入力は平仮名のみにしてください！')\n",
    "        continue\n",
    "\n",
    "    # 入力された単語は使用済みか？\n",
    "    if inputed_word_user in worddict_used:\n",
    "        print('注意：その単語は既に使われています！')\n",
    "        continue\n",
    "\n",
    "    # cpuの単語から続く言葉を入力しているか？/userが先行の場合はスキップ\n",
    "    if selected_word_cpu != \"\":\n",
    "        if selected_word_cpu[-1] != inputed_word_user[0]:\n",
    "            print(\"CPUの言葉に続く単語を入力してください！\")\n",
    "            continue\n",
    "\n",
    "    # 「ん」で終わる単語を入れるuserがいたら必死に止める\n",
    "    if inputed_word_user[-1] == \"ん\":\n",
    "        if n_count == 0:\n",
    "            print(\"本当に「ん」で終わる単語を入れますか？\")\n",
    "            n_count += 1\n",
    "            continue\n",
    "        elif n_count == 1:\n",
    "            print(\"後悔しませんね？\")\n",
    "            n_count += 1\n",
    "            continue\n",
    "        elif n_count == 2:\n",
    "            print(\"本当に後悔しませんね？\")\n",
    "            n_count += 1\n",
    "            continue\n",
    "        else:\n",
    "            print(\"あなたは自ら敗北を選びました...\")\n",
    "            break\n",
    "\n",
    "    print(f'入力文字：{inputed_word_user}')\n",
    "    worddict_used.append(inputed_word_user)\n",
    "    print(f'これまでに使われた単語：{worddict_used}')\n",
    "    break #条件を最後までクリア出来たら終了"
   ]
  },
  {
   "cell_type": "code",
   "execution_count": null,
   "id": "43c2b1dc",
   "metadata": {},
   "outputs": [
    {
     "name": "stdout",
     "output_type": "stream",
     "text": [
      "り\n",
      "し\n"
     ]
    }
   ],
   "source": [
    "print(selected_word_cpu[-1])\n",
    "print(inputed_word_user[0])\n"
   ]
  }
 ],
 "metadata": {
  "kernelspec": {
   "display_name": "venv",
   "language": "python",
   "name": "python3"
  },
  "language_info": {
   "codemirror_mode": {
    "name": "ipython",
    "version": 3
   },
   "file_extension": ".py",
   "mimetype": "text/x-python",
   "name": "python",
   "nbconvert_exporter": "python",
   "pygments_lexer": "ipython3",
   "version": "3.12.6"
  }
 },
 "nbformat": 4,
 "nbformat_minor": 5
}
